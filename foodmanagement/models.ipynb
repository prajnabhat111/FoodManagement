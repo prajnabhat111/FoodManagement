{
 "cells": [
  {
   "cell_type": "code",
   "execution_count": 1,
   "metadata": {},
   "outputs": [],
   "source": [
    "import pandas as pd\n",
    "import numpy as np\n",
    "import matplotlib.pyplot as plt\n",
    "import seaborn as sns\n",
    "%matplotlib inline"
   ]
  },
  {
   "cell_type": "code",
   "execution_count": 2,
   "metadata": {},
   "outputs": [],
   "source": [
    "data = pd.read_csv('//Users//prajna//Downloads//foodmanagement//numofppl.csv')"
   ]
  },
  {
   "cell_type": "code",
   "execution_count": 3,
   "metadata": {},
   "outputs": [
    {
     "data": {
      "text/html": [
       "<div>\n",
       "<style scoped>\n",
       "    .dataframe tbody tr th:only-of-type {\n",
       "        vertical-align: middle;\n",
       "    }\n",
       "\n",
       "    .dataframe tbody tr th {\n",
       "        vertical-align: top;\n",
       "    }\n",
       "\n",
       "    .dataframe thead th {\n",
       "        text-align: right;\n",
       "    }\n",
       "</style>\n",
       "<table border=\"1\" class=\"dataframe\">\n",
       "  <thead>\n",
       "    <tr style=\"text-align: right;\">\n",
       "      <th></th>\n",
       "      <th>Day</th>\n",
       "      <th>No of ppl attended</th>\n",
       "      <th>Gandhi bazar</th>\n",
       "      <th>Jayanagar</th>\n",
       "      <th>Kengeri</th>\n",
       "      <th>Kumarswami layout</th>\n",
       "      <th>Afternoon</th>\n",
       "      <th>Evening</th>\n",
       "      <th>Night</th>\n",
       "      <th>Birthday party</th>\n",
       "      <th>Pooja</th>\n",
       "      <th>Social event</th>\n",
       "      <th>Wedding</th>\n",
       "      <th>No of ppl expected</th>\n",
       "    </tr>\n",
       "  </thead>\n",
       "  <tbody>\n",
       "    <tr>\n",
       "      <th>0</th>\n",
       "      <td>0</td>\n",
       "      <td>540</td>\n",
       "      <td>0</td>\n",
       "      <td>0</td>\n",
       "      <td>1</td>\n",
       "      <td>0</td>\n",
       "      <td>0</td>\n",
       "      <td>1</td>\n",
       "      <td>0</td>\n",
       "      <td>0</td>\n",
       "      <td>0</td>\n",
       "      <td>0</td>\n",
       "      <td>1</td>\n",
       "      <td>670</td>\n",
       "    </tr>\n",
       "    <tr>\n",
       "      <th>1</th>\n",
       "      <td>0</td>\n",
       "      <td>1037</td>\n",
       "      <td>0</td>\n",
       "      <td>1</td>\n",
       "      <td>0</td>\n",
       "      <td>0</td>\n",
       "      <td>1</td>\n",
       "      <td>0</td>\n",
       "      <td>0</td>\n",
       "      <td>0</td>\n",
       "      <td>0</td>\n",
       "      <td>1</td>\n",
       "      <td>0</td>\n",
       "      <td>1500</td>\n",
       "    </tr>\n",
       "    <tr>\n",
       "      <th>2</th>\n",
       "      <td>1</td>\n",
       "      <td>1045</td>\n",
       "      <td>0</td>\n",
       "      <td>1</td>\n",
       "      <td>0</td>\n",
       "      <td>0</td>\n",
       "      <td>1</td>\n",
       "      <td>0</td>\n",
       "      <td>0</td>\n",
       "      <td>0</td>\n",
       "      <td>0</td>\n",
       "      <td>1</td>\n",
       "      <td>0</td>\n",
       "      <td>1500</td>\n",
       "    </tr>\n",
       "    <tr>\n",
       "      <th>3</th>\n",
       "      <td>1</td>\n",
       "      <td>194</td>\n",
       "      <td>0</td>\n",
       "      <td>0</td>\n",
       "      <td>1</td>\n",
       "      <td>0</td>\n",
       "      <td>0</td>\n",
       "      <td>1</td>\n",
       "      <td>0</td>\n",
       "      <td>1</td>\n",
       "      <td>0</td>\n",
       "      <td>0</td>\n",
       "      <td>0</td>\n",
       "      <td>260</td>\n",
       "    </tr>\n",
       "    <tr>\n",
       "      <th>4</th>\n",
       "      <td>0</td>\n",
       "      <td>100</td>\n",
       "      <td>0</td>\n",
       "      <td>1</td>\n",
       "      <td>0</td>\n",
       "      <td>0</td>\n",
       "      <td>1</td>\n",
       "      <td>0</td>\n",
       "      <td>0</td>\n",
       "      <td>0</td>\n",
       "      <td>1</td>\n",
       "      <td>0</td>\n",
       "      <td>0</td>\n",
       "      <td>125</td>\n",
       "    </tr>\n",
       "  </tbody>\n",
       "</table>\n",
       "</div>"
      ],
      "text/plain": [
       "   Day  No of ppl attended  Gandhi bazar  Jayanagar  Kengeri  \\\n",
       "0    0                 540             0          0        1   \n",
       "1    0                1037             0          1        0   \n",
       "2    1                1045             0          1        0   \n",
       "3    1                 194             0          0        1   \n",
       "4    0                 100             0          1        0   \n",
       "\n",
       "   Kumarswami layout  Afternoon  Evening  Night  Birthday party  Pooja  \\\n",
       "0                  0          0        1      0               0      0   \n",
       "1                  0          1        0      0               0      0   \n",
       "2                  0          1        0      0               0      0   \n",
       "3                  0          0        1      0               1      0   \n",
       "4                  0          1        0      0               0      1   \n",
       "\n",
       "   Social event  Wedding  No of ppl expected  \n",
       "0             0        1                 670  \n",
       "1             1        0                1500  \n",
       "2             1        0                1500  \n",
       "3             0        0                 260  \n",
       "4             0        0                 125  "
      ]
     },
     "execution_count": 3,
     "metadata": {},
     "output_type": "execute_result"
    }
   ],
   "source": [
    "dummies= pd.get_dummies(data.Area)\n",
    "dummies = pd.concat([data,dummies],axis='columns')\n",
    "dummies1 =dummies.drop(['Area'],axis='columns')\n",
    "\n",
    "dummies = pd.get_dummies(data.Time)\n",
    "dummies =pd.concat([dummies1,dummies],axis='columns')\n",
    "dummies2 = dummies.drop(['Time'],axis='columns')\n",
    "\n",
    "dummies = pd.get_dummies(data.Event)\n",
    "dummies = pd.concat([dummies2,dummies],axis='columns')\n",
    "dummies3= dummies.drop(['Event'],axis='columns')\n",
    "\n",
    "dum = dummies3.loc[:, dummies3.columns.intersection(['No of ppl expected'])] \n",
    "dumm = dummies3.drop(['No of ppl expected'],axis='columns')\n",
    "dummies3 = pd.concat([dumm,dum],axis='columns')\n",
    "\n",
    "dummies3.head()"
   ]
  },
  {
   "cell_type": "code",
   "execution_count": 4,
   "metadata": {},
   "outputs": [
    {
     "data": {
      "text/html": [
       "<div>\n",
       "<style scoped>\n",
       "    .dataframe tbody tr th:only-of-type {\n",
       "        vertical-align: middle;\n",
       "    }\n",
       "\n",
       "    .dataframe tbody tr th {\n",
       "        vertical-align: top;\n",
       "    }\n",
       "\n",
       "    .dataframe thead th {\n",
       "        text-align: right;\n",
       "    }\n",
       "</style>\n",
       "<table border=\"1\" class=\"dataframe\">\n",
       "  <thead>\n",
       "    <tr style=\"text-align: right;\">\n",
       "      <th></th>\n",
       "      <th>Day</th>\n",
       "      <th>Gandhi bazar</th>\n",
       "      <th>Jayanagar</th>\n",
       "      <th>Kengeri</th>\n",
       "      <th>Kumarswami layout</th>\n",
       "      <th>Afternoon</th>\n",
       "      <th>Evening</th>\n",
       "      <th>Night</th>\n",
       "      <th>Birthday party</th>\n",
       "      <th>Pooja</th>\n",
       "      <th>Social event</th>\n",
       "      <th>Wedding</th>\n",
       "      <th>No of ppl expected</th>\n",
       "    </tr>\n",
       "  </thead>\n",
       "  <tbody>\n",
       "    <tr>\n",
       "      <th>0</th>\n",
       "      <td>0</td>\n",
       "      <td>0</td>\n",
       "      <td>0</td>\n",
       "      <td>1</td>\n",
       "      <td>0</td>\n",
       "      <td>0</td>\n",
       "      <td>1</td>\n",
       "      <td>0</td>\n",
       "      <td>0</td>\n",
       "      <td>0</td>\n",
       "      <td>0</td>\n",
       "      <td>1</td>\n",
       "      <td>670</td>\n",
       "    </tr>\n",
       "    <tr>\n",
       "      <th>1</th>\n",
       "      <td>0</td>\n",
       "      <td>0</td>\n",
       "      <td>1</td>\n",
       "      <td>0</td>\n",
       "      <td>0</td>\n",
       "      <td>1</td>\n",
       "      <td>0</td>\n",
       "      <td>0</td>\n",
       "      <td>0</td>\n",
       "      <td>0</td>\n",
       "      <td>1</td>\n",
       "      <td>0</td>\n",
       "      <td>1500</td>\n",
       "    </tr>\n",
       "    <tr>\n",
       "      <th>2</th>\n",
       "      <td>1</td>\n",
       "      <td>0</td>\n",
       "      <td>1</td>\n",
       "      <td>0</td>\n",
       "      <td>0</td>\n",
       "      <td>1</td>\n",
       "      <td>0</td>\n",
       "      <td>0</td>\n",
       "      <td>0</td>\n",
       "      <td>0</td>\n",
       "      <td>1</td>\n",
       "      <td>0</td>\n",
       "      <td>1500</td>\n",
       "    </tr>\n",
       "    <tr>\n",
       "      <th>3</th>\n",
       "      <td>1</td>\n",
       "      <td>0</td>\n",
       "      <td>0</td>\n",
       "      <td>1</td>\n",
       "      <td>0</td>\n",
       "      <td>0</td>\n",
       "      <td>1</td>\n",
       "      <td>0</td>\n",
       "      <td>1</td>\n",
       "      <td>0</td>\n",
       "      <td>0</td>\n",
       "      <td>0</td>\n",
       "      <td>260</td>\n",
       "    </tr>\n",
       "    <tr>\n",
       "      <th>4</th>\n",
       "      <td>0</td>\n",
       "      <td>0</td>\n",
       "      <td>1</td>\n",
       "      <td>0</td>\n",
       "      <td>0</td>\n",
       "      <td>1</td>\n",
       "      <td>0</td>\n",
       "      <td>0</td>\n",
       "      <td>0</td>\n",
       "      <td>1</td>\n",
       "      <td>0</td>\n",
       "      <td>0</td>\n",
       "      <td>125</td>\n",
       "    </tr>\n",
       "  </tbody>\n",
       "</table>\n",
       "</div>"
      ],
      "text/plain": [
       "   Day  Gandhi bazar  Jayanagar  Kengeri  Kumarswami layout  Afternoon  \\\n",
       "0    0             0          0        1                  0          0   \n",
       "1    0             0          1        0                  0          1   \n",
       "2    1             0          1        0                  0          1   \n",
       "3    1             0          0        1                  0          0   \n",
       "4    0             0          1        0                  0          1   \n",
       "\n",
       "   Evening  Night  Birthday party  Pooja  Social event  Wedding  \\\n",
       "0        1      0               0      0             0        1   \n",
       "1        0      0               0      0             1        0   \n",
       "2        0      0               0      0             1        0   \n",
       "3        1      0               1      0             0        0   \n",
       "4        0      0               0      1             0        0   \n",
       "\n",
       "   No of ppl expected  \n",
       "0                 670  \n",
       "1                1500  \n",
       "2                1500  \n",
       "3                 260  \n",
       "4                 125  "
      ]
     },
     "execution_count": 4,
     "metadata": {},
     "output_type": "execute_result"
    }
   ],
   "source": [
    "Y = dummies3.loc[:, dummies3.columns.intersection(['No of ppl attended'])]  \n",
    "X = dummies3.drop([\"No of ppl attended\"],axis=\"columns\")\n",
    "X.head()"
   ]
  },
  {
   "cell_type": "code",
   "execution_count": 15,
   "metadata": {},
   "outputs": [],
   "source": [
    "from sklearn.model_selection import train_test_split\n",
    "\n",
    "X_train, X_test, y_train, y_test = train_test_split(X, np.ravel(Y), test_size=0.20)"
   ]
  },
  {
   "cell_type": "code",
   "execution_count": 16,
   "metadata": {},
   "outputs": [
    {
     "data": {
      "text/plain": [
       "0.9569763638667161"
      ]
     },
     "execution_count": 16,
     "metadata": {},
     "output_type": "execute_result"
    }
   ],
   "source": [
    "from sklearn.linear_model import LinearRegression as LR\n",
    "clf = LR()\n",
    "clf.fit(X_train, y_train)\n",
    "clf.score(X_test,y_test.squeeze())"
   ]
  },
  {
   "cell_type": "code",
   "execution_count": 17,
   "metadata": {},
   "outputs": [
    {
     "data": {
      "text/plain": [
       "['/Users/prajna/Downloads/foodmanagement/foodmgmtppl.pkl']"
      ]
     },
     "execution_count": 17,
     "metadata": {},
     "output_type": "execute_result"
    }
   ],
   "source": [
    "from sklearn.externals import joblib\n",
    "joblib_file = \"/Users/prajna/Downloads/foodmanagement/foodmgmtppl.pkl\"  \n",
    "joblib.dump(clf, joblib_file)"
   ]
  },
  {
   "cell_type": "code",
   "execution_count": 135,
   "metadata": {},
   "outputs": [
    {
     "name": "stdout",
     "output_type": "stream",
     "text": [
      "0.9453359385302825\n",
      "0.9659083651823854\n"
     ]
    }
   ],
   "source": [
    "rice_data = pd.read_csv('//Users//prajna//Downloads//foodmanagement/rice.csv')\n",
    "X1 = rice_data[\"No of ppl attended\"].values[1:]\n",
    "X1 = X1.reshape(-1,1)\n",
    "Y1 = rice_data[\"Rice\"].values[1:]\n",
    "Y1=Y1.reshape(-1,1)\n",
    "\n",
    "\n",
    "X_train1, X_test1, y_train1, y_test1 = train_test_split(X1, Y1, test_size=0.20, random_state=100)\n",
    "rice_model = LR()\n",
    "rice_model.fit(X_train1, y_train1)\n",
    "print(rice_model.score(X_test1,y_test1.squeeze()))\n",
    "print(rice_model.score(X_train1,y_train1))"
   ]
  },
  {
   "cell_type": "code",
   "execution_count": 136,
   "metadata": {},
   "outputs": [
    {
     "data": {
      "text/plain": [
       "['/Users/prajna/Downloads/foodmanagement/rice_model.pkl']"
      ]
     },
     "execution_count": 136,
     "metadata": {},
     "output_type": "execute_result"
    }
   ],
   "source": [
    "rice_m = \"/Users/prajna/Downloads/foodmanagement/rice_model.pkl\"  \n",
    "joblib.dump(rice_model, rice_m)"
   ]
  },
  {
   "cell_type": "code",
   "execution_count": 147,
   "metadata": {},
   "outputs": [
    {
     "name": "stdout",
     "output_type": "stream",
     "text": [
      "0.9622896179614976\n",
      "0.9500344470432861\n"
     ]
    }
   ],
   "source": [
    "sambar_data = pd.read_csv('//Users//prajna//Downloads//foodmanagement/sambar.csv')\n",
    "X2 = sambar_data[\"No of ppl attended\"].values[1:]\n",
    "X2=X2.reshape(-1,1)\n",
    "Y2 = sambar_data[\"Sambar/rasam\"].values[1:]\n",
    "Y2 = Y2.reshape(-1,1)\n",
    "\n",
    "X_train2, X_test2, y_train2, y_test2 = train_test_split(X2, Y2, test_size=0.20, random_state=101)\n",
    "sambar_model = LR()\n",
    "sambar_model.fit(X_train2, y_train2)\n",
    "print(sambar_model.score(X_test2,y_test2.squeeze()))\n",
    "print(sambar_model.score(X_train2,y_train2))"
   ]
  },
  {
   "cell_type": "code",
   "execution_count": 148,
   "metadata": {},
   "outputs": [
    {
     "data": {
      "text/plain": [
       "['/Users/prajna/Downloads/foodmanagement/sambar_model.pkl']"
      ]
     },
     "execution_count": 148,
     "metadata": {},
     "output_type": "execute_result"
    }
   ],
   "source": [
    "sambar_m = \"/Users/prajna/Downloads/foodmanagement/sambar_model.pkl\"  \n",
    "joblib.dump(sambar_model, sambar_m)"
   ]
  },
  {
   "cell_type": "code",
   "execution_count": 151,
   "metadata": {},
   "outputs": [
    {
     "name": "stdout",
     "output_type": "stream",
     "text": [
      "0.9807364838022962\n",
      "0.9728712532821009\n"
     ]
    }
   ],
   "source": [
    "roti_data = pd.read_csv('//Users//prajna//Downloads//foodmanagement//roti.csv')\n",
    "X3 = roti_data[\"No of ppl attended\"].values[1:]\n",
    "X3 = X3.reshape(-1,1)\n",
    "Y3 = roti_data[\"Roti\"].values[1:]\n",
    "Y3 = Y3.reshape(-1,1)\n",
    "\n",
    "X_train3, X_test3, y_train3, y_test3 = train_test_split(X3, Y3, test_size=0.20, random_state=100)\n",
    "roti_model = LR()\n",
    "roti_model.fit(X_train3, y_train3)\n",
    "print(roti_model.score(X_test3,y_test3.squeeze()))\n",
    "print(roti_model.score(X_train3,y_train3))"
   ]
  },
  {
   "cell_type": "code",
   "execution_count": 152,
   "metadata": {},
   "outputs": [
    {
     "data": {
      "text/plain": [
       "['/Users/prajna/Downloads/foodmanagement/roti_model.pkl']"
      ]
     },
     "execution_count": 152,
     "metadata": {},
     "output_type": "execute_result"
    }
   ],
   "source": [
    "roti_m = \"/Users/prajna/Downloads/foodmanagement/roti_model.pkl\"  \n",
    "joblib.dump(roti_model, roti_m)"
   ]
  },
  {
   "cell_type": "code",
   "execution_count": 163,
   "metadata": {},
   "outputs": [
    {
     "name": "stdout",
     "output_type": "stream",
     "text": [
      "0.919101619600194\n",
      "0.9379445515298481\n"
     ]
    }
   ],
   "source": [
    "sabji_data = pd.read_csv('//Users//prajna//Downloads//foodmanagement/sabji.csv')\n",
    "X4 = sabji_data[\"No of ppl attended\"].values[1:]\n",
    "X4 = X4.reshape(-1,1)\n",
    "Y4 = sabji_data[\"Sabji\"].values[1:]\n",
    "Y4 = Y4.reshape(-1,1)\n",
    "\n",
    "X_train4, X_test4, y_train4, y_test4 = train_test_split(X4, Y4, test_size=0.20, random_state=104)\n",
    "sabji_model = LR()\n",
    "sabji_model.fit(X_train4, y_train4)\n",
    "print(sabji_model.score(X_test4,y_test4.squeeze()))\n",
    "print(sabji_model.score(X_train4,y_train4))"
   ]
  },
  {
   "cell_type": "code",
   "execution_count": 164,
   "metadata": {},
   "outputs": [
    {
     "data": {
      "text/plain": [
       "['/Users/prajna/Downloads/foodmanagement/sabji_model.pkl']"
      ]
     },
     "execution_count": 164,
     "metadata": {},
     "output_type": "execute_result"
    }
   ],
   "source": [
    "sabji_m = \"/Users/prajna/Downloads/foodmanagement/sabji_model.pkl\"  \n",
    "joblib.dump(sabji_model, sabji_m)"
   ]
  },
  {
   "cell_type": "code",
   "execution_count": 199,
   "metadata": {},
   "outputs": [
    {
     "name": "stdout",
     "output_type": "stream",
     "text": [
      "0.9246002076555357\n",
      "0.8966303696706805\n"
     ]
    }
   ],
   "source": [
    "payasam_data = pd.read_csv('//Users//prajna//Downloads//foodmanagement//payasam.csv')\n",
    "X5 = payasam_data[\"No of ppl attended\"].values[1:]\n",
    "X5 = X5.reshape(-1,1)\n",
    "Y5 = payasam_data[\"Payasam\"].values[1:]\n",
    "Y5 = Y5.reshape(-1,1)\n",
    "\n",
    "X_train5, X_test5, y_train5, y_test5 = train_test_split(X5, Y5, test_size=0.20, random_state=100)\n",
    "payasam_model = LR()\n",
    "payasam_model.fit(X_train5, y_train5)\n",
    "print(payasam_model.score(X_test5,y_test5.squeeze()))\n",
    "print(payasam_model.score(X_train5,y_train5))"
   ]
  },
  {
   "cell_type": "code",
   "execution_count": 200,
   "metadata": {},
   "outputs": [
    {
     "data": {
      "text/plain": [
       "['/Users/prajna/Downloads/foodmanagement/payasam_model.pkl']"
      ]
     },
     "execution_count": 200,
     "metadata": {},
     "output_type": "execute_result"
    }
   ],
   "source": [
    "payasam_m = \"/Users/prajna/Downloads/foodmanagement/payasam_model.pkl\"  \n",
    "joblib.dump(payasam_model, payasam_m)"
   ]
  },
  {
   "cell_type": "code",
   "execution_count": null,
   "metadata": {},
   "outputs": [],
   "source": []
  }
 ],
 "metadata": {
  "kernelspec": {
   "display_name": "Python 3",
   "language": "python",
   "name": "python3"
  },
  "language_info": {
   "codemirror_mode": {
    "name": "ipython",
    "version": 3
   },
   "file_extension": ".py",
   "mimetype": "text/x-python",
   "name": "python",
   "nbconvert_exporter": "python",
   "pygments_lexer": "ipython3",
   "version": "3.7.1"
  }
 },
 "nbformat": 4,
 "nbformat_minor": 2
}
